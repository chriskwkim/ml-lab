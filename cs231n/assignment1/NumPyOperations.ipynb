{
 "cells": [
  {
   "cell_type": "markdown",
   "metadata": {},
   "source": [
    "### NumPy experiment"
   ]
  },
  {
   "cell_type": "code",
   "execution_count": 1,
   "metadata": {},
   "outputs": [],
   "source": [
    "import numpy as np\n"
   ]
  },
  {
   "cell_type": "code",
   "execution_count": 2,
   "metadata": {},
   "outputs": [
    {
     "data": {
      "text/plain": [
       "array([[  0,   1,   2,   3,   4,   5,   6,   7,   8,   9,  10,  11],\n",
       "       [ 12,  13,  14,  15,  16,  17,  18,  19,  20,  21,  22,  23],\n",
       "       [ 24,  25,  26,  27,  28,  29,  30,  31,  32,  33,  34,  35],\n",
       "       [ 36,  37,  38,  39,  40,  41,  42,  43,  44,  45,  46,  47],\n",
       "       [ 48,  49,  50,  51,  52,  53,  54,  55,  56,  57,  58,  59],\n",
       "       [ 60,  61,  62,  63,  64,  65,  66,  67,  68,  69,  70,  71],\n",
       "       [ 72,  73,  74,  75,  76,  77,  78,  79,  80,  81,  82,  83],\n",
       "       [ 84,  85,  86,  87,  88,  89,  90,  91,  92,  93,  94,  95],\n",
       "       [ 96,  97,  98,  99, 100, 101, 102, 103, 104, 105, 106, 107],\n",
       "       [108, 109, 110, 111, 112, 113, 114, 115, 116, 117, 118, 119]])"
      ]
     },
     "execution_count": 2,
     "metadata": {},
     "output_type": "execute_result"
    }
   ],
   "source": [
    "num_classes = 5\n",
    "num_train = 10\n",
    "num_dimension = 12  # Features\n",
    "\n",
    "X = np.arange(120).reshape((num_train, num_dimension))\n",
    "X.shape = (num_train, num_dimension)\n",
    "X"
   ]
  },
  {
   "cell_type": "code",
   "execution_count": 3,
   "metadata": {},
   "outputs": [
    {
     "data": {
      "text/plain": [
       "array([[0. , 0.1, 0.2, 0.3, 0.4],\n",
       "       [0.5, 0.6, 0.7, 0.8, 0.9],\n",
       "       [1. , 1.1, 1.2, 1.3, 1.4],\n",
       "       [1.5, 1.6, 1.7, 1.8, 1.9],\n",
       "       [2. , 2.1, 2.2, 2.3, 2.4],\n",
       "       [2.5, 2.6, 2.7, 2.8, 2.9],\n",
       "       [3. , 3.1, 3.2, 3.3, 3.4],\n",
       "       [3.5, 3.6, 3.7, 3.8, 3.9],\n",
       "       [4. , 4.1, 4.2, 4.3, 4.4],\n",
       "       [4.5, 4.6, 4.7, 4.8, 4.9],\n",
       "       [5. , 5.1, 5.2, 5.3, 5.4],\n",
       "       [5.5, 5.6, 5.7, 5.8, 5.9]])"
      ]
     },
     "execution_count": 3,
     "metadata": {},
     "output_type": "execute_result"
    }
   ],
   "source": [
    "W = np.arange(60).reshape((num_dimension, num_classes)) # Features (row) X Classes (col)\n",
    "W.shape = (num_dimension, num_classes) \n",
    "W = W * 0.1\n",
    "W"
   ]
  },
  {
   "cell_type": "code",
   "execution_count": 4,
   "metadata": {},
   "outputs": [
    {
     "data": {
      "text/plain": [
       "array([0, 1, 2, 3, 4])"
      ]
     },
     "execution_count": 4,
     "metadata": {},
     "output_type": "execute_result"
    }
   ],
   "source": [
    "y = np.arange(num_classes)\n",
    "#y.shape = (num_train,)\n",
    "y"
   ]
  },
  {
   "cell_type": "code",
   "execution_count": 5,
   "metadata": {},
   "outputs": [],
   "source": [
    "# y[-5:] = y[0:5]\n",
    "# y # correct class (index)"
   ]
  },
  {
   "cell_type": "code",
   "execution_count": 6,
   "metadata": {},
   "outputs": [
    {
     "data": {
      "text/plain": [
       "array([253. , 259.6, 266.2, 272.8, 279.4])"
      ]
     },
     "execution_count": 6,
     "metadata": {},
     "output_type": "execute_result"
    }
   ],
   "source": [
    "i = 0\n",
    "j = 1\n",
    "scores = X[i].dot(W)\n",
    "scores  # Scores for each class"
   ]
  },
  {
   "cell_type": "code",
   "execution_count": 7,
   "metadata": {},
   "outputs": [
    {
     "data": {
      "text/plain": [
       "253.0"
      ]
     },
     "execution_count": 7,
     "metadata": {},
     "output_type": "execute_result"
    }
   ],
   "source": [
    "correct_class_score = scores[y[i]] \n",
    "correct_class_score"
   ]
  },
  {
   "cell_type": "code",
   "execution_count": 8,
   "metadata": {},
   "outputs": [
    {
     "data": {
      "text/plain": [
       "7.600000000000023"
      ]
     },
     "execution_count": 8,
     "metadata": {},
     "output_type": "execute_result"
    }
   ],
   "source": [
    "margin = scores[j] - correct_class_score + 1 # note delta = 1\n",
    "margin"
   ]
  },
  {
   "cell_type": "code",
   "execution_count": 9,
   "metadata": {},
   "outputs": [
    {
     "data": {
      "text/plain": [
       "array([[0., 0., 0., 0., 0.],\n",
       "       [0., 0., 0., 0., 0.],\n",
       "       [0., 0., 0., 0., 0.],\n",
       "       [0., 0., 0., 0., 0.],\n",
       "       [0., 0., 0., 0., 0.],\n",
       "       [0., 0., 0., 0., 0.],\n",
       "       [0., 0., 0., 0., 0.],\n",
       "       [0., 0., 0., 0., 0.],\n",
       "       [0., 0., 0., 0., 0.],\n",
       "       [0., 0., 0., 0., 0.],\n",
       "       [0., 0., 0., 0., 0.],\n",
       "       [0., 0., 0., 0., 0.]])"
      ]
     },
     "execution_count": 9,
     "metadata": {},
     "output_type": "execute_result"
    }
   ],
   "source": [
    "dW = np.zeros(W.shape) # initialize the gradient as zero\n",
    "dW"
   ]
  },
  {
   "cell_type": "code",
   "execution_count": 10,
   "metadata": {},
   "outputs": [
    {
     "data": {
      "text/plain": [
       "array([0., 0., 0., 0., 0., 0., 0., 0., 0., 0., 0., 0.])"
      ]
     },
     "execution_count": 10,
     "metadata": {},
     "output_type": "execute_result"
    }
   ],
   "source": [
    "dW[:, j]"
   ]
  },
  {
   "cell_type": "code",
   "execution_count": 11,
   "metadata": {},
   "outputs": [
    {
     "data": {
      "text/plain": [
       "array([ 0,  1,  2,  3,  4,  5,  6,  7,  8,  9, 10, 11])"
      ]
     },
     "execution_count": 11,
     "metadata": {},
     "output_type": "execute_result"
    }
   ],
   "source": [
    "X[i]"
   ]
  },
  {
   "cell_type": "code",
   "execution_count": 12,
   "metadata": {},
   "outputs": [
    {
     "data": {
      "text/plain": [
       "array([ 0.,  1.,  2.,  3.,  4.,  5.,  6.,  7.,  8.,  9., 10., 11.])"
      ]
     },
     "execution_count": 12,
     "metadata": {},
     "output_type": "execute_result"
    }
   ],
   "source": [
    "dW[:, j] += X[i]\n",
    "dW[:, j]"
   ]
  },
  {
   "cell_type": "code",
   "execution_count": 13,
   "metadata": {},
   "outputs": [
    {
     "data": {
      "text/plain": [
       "array([[ 0.,  0.,  0.,  0.,  0.],\n",
       "       [ 0.,  1.,  0.,  0.,  0.],\n",
       "       [ 0.,  2.,  0.,  0.,  0.],\n",
       "       [ 0.,  3.,  0.,  0.,  0.],\n",
       "       [ 0.,  4.,  0.,  0.,  0.],\n",
       "       [ 0.,  5.,  0.,  0.,  0.],\n",
       "       [ 0.,  6.,  0.,  0.,  0.],\n",
       "       [ 0.,  7.,  0.,  0.,  0.],\n",
       "       [ 0.,  8.,  0.,  0.,  0.],\n",
       "       [ 0.,  9.,  0.,  0.,  0.],\n",
       "       [ 0., 10.,  0.,  0.,  0.],\n",
       "       [ 0., 11.,  0.,  0.,  0.]])"
      ]
     },
     "execution_count": 13,
     "metadata": {},
     "output_type": "execute_result"
    }
   ],
   "source": [
    "dW"
   ]
  },
  {
   "cell_type": "code",
   "execution_count": 14,
   "metadata": {},
   "outputs": [
    {
     "data": {
      "text/plain": [
       "array([ 0,  1,  2,  3,  4,  5,  6,  7,  8,  9, 10, 11])"
      ]
     },
     "execution_count": 14,
     "metadata": {},
     "output_type": "execute_result"
    }
   ],
   "source": [
    "X[i]"
   ]
  },
  {
   "cell_type": "code",
   "execution_count": 15,
   "metadata": {},
   "outputs": [
    {
     "data": {
      "text/plain": [
       "array([0., 0., 0., 0., 0., 0., 0., 0., 0., 0., 0., 0.])"
      ]
     },
     "execution_count": 15,
     "metadata": {},
     "output_type": "execute_result"
    }
   ],
   "source": [
    "dW[:, y[i]] "
   ]
  },
  {
   "cell_type": "code",
   "execution_count": 16,
   "metadata": {},
   "outputs": [],
   "source": [
    "dW[:, y[i]] -= X[i]"
   ]
  },
  {
   "cell_type": "code",
   "execution_count": 17,
   "metadata": {},
   "outputs": [
    {
     "data": {
      "text/plain": [
       "array([[  0.,   0.,   0.,   0.,   0.],\n",
       "       [ -1.,   1.,   0.,   0.,   0.],\n",
       "       [ -2.,   2.,   0.,   0.,   0.],\n",
       "       [ -3.,   3.,   0.,   0.,   0.],\n",
       "       [ -4.,   4.,   0.,   0.,   0.],\n",
       "       [ -5.,   5.,   0.,   0.,   0.],\n",
       "       [ -6.,   6.,   0.,   0.,   0.],\n",
       "       [ -7.,   7.,   0.,   0.,   0.],\n",
       "       [ -8.,   8.,   0.,   0.,   0.],\n",
       "       [ -9.,   9.,   0.,   0.,   0.],\n",
       "       [-10.,  10.,   0.,   0.,   0.],\n",
       "       [-11.,  11.,   0.,   0.,   0.]])"
      ]
     },
     "execution_count": 17,
     "metadata": {},
     "output_type": "execute_result"
    }
   ],
   "source": [
    "dW"
   ]
  },
  {
   "cell_type": "code",
   "execution_count": 18,
   "metadata": {},
   "outputs": [
    {
     "name": "stdout",
     "output_type": "stream",
     "text": [
      "0 1\n",
      "score[ 1 ] 259.6 correct class score 253.0 margin 7.600000000000023\n",
      "dW: [[  0.   0.   0.   0.   0.]\n",
      " [ -1.   1.   0.   0.   0.]\n",
      " [ -2.   2.   0.   0.   0.]\n",
      " [ -3.   3.   0.   0.   0.]\n",
      " [ -4.   4.   0.   0.   0.]\n",
      " [ -5.   5.   0.   0.   0.]\n",
      " [ -6.   6.   0.   0.   0.]\n",
      " [ -7.   7.   0.   0.   0.]\n",
      " [ -8.   8.   0.   0.   0.]\n",
      " [ -9.   9.   0.   0.   0.]\n",
      " [-10.  10.   0.   0.   0.]\n",
      " [-11.  11.   0.   0.   0.]]\n",
      "0 2\n",
      "score[ 2 ] 266.20000000000005 correct class score 253.0 margin 14.200000000000045\n",
      "dW: [[  0.   0.   0.   0.   0.]\n",
      " [ -2.   1.   1.   0.   0.]\n",
      " [ -4.   2.   2.   0.   0.]\n",
      " [ -6.   3.   3.   0.   0.]\n",
      " [ -8.   4.   4.   0.   0.]\n",
      " [-10.   5.   5.   0.   0.]\n",
      " [-12.   6.   6.   0.   0.]\n",
      " [-14.   7.   7.   0.   0.]\n",
      " [-16.   8.   8.   0.   0.]\n",
      " [-18.   9.   9.   0.   0.]\n",
      " [-20.  10.  10.   0.   0.]\n",
      " [-22.  11.  11.   0.   0.]]\n",
      "0 3\n",
      "score[ 3 ] 272.80000000000007 correct class score 253.0 margin 20.800000000000068\n",
      "dW: [[  0.   0.   0.   0.   0.]\n",
      " [ -3.   1.   1.   1.   0.]\n",
      " [ -6.   2.   2.   2.   0.]\n",
      " [ -9.   3.   3.   3.   0.]\n",
      " [-12.   4.   4.   4.   0.]\n",
      " [-15.   5.   5.   5.   0.]\n",
      " [-18.   6.   6.   6.   0.]\n",
      " [-21.   7.   7.   7.   0.]\n",
      " [-24.   8.   8.   8.   0.]\n",
      " [-27.   9.   9.   9.   0.]\n",
      " [-30.  10.  10.  10.   0.]\n",
      " [-33.  11.  11.  11.   0.]]\n",
      "0 4\n",
      "score[ 4 ] 279.40000000000003 correct class score 253.0 margin 27.400000000000034\n",
      "dW: [[  0.   0.   0.   0.   0.]\n",
      " [ -4.   1.   1.   1.   1.]\n",
      " [ -8.   2.   2.   2.   2.]\n",
      " [-12.   3.   3.   3.   3.]\n",
      " [-16.   4.   4.   4.   4.]\n",
      " [-20.   5.   5.   5.   5.]\n",
      " [-24.   6.   6.   6.   6.]\n",
      " [-28.   7.   7.   7.   7.]\n",
      " [-32.   8.   8.   8.   8.]\n",
      " [-36.   9.   9.   9.   9.]\n",
      " [-40.  10.  10.  10.  10.]\n",
      " [-44.  11.  11.  11.  11.]]\n",
      "1 0\n",
      "score[ 0 ] 649.0 correct class score 670.0 margin -20.0\n",
      "dW: [[  0.   0.   0.   0.   0.]\n",
      " [ -4.   1.   1.   1.   1.]\n",
      " [ -8.   2.   2.   2.   2.]\n",
      " [-12.   3.   3.   3.   3.]\n",
      " [-16.   4.   4.   4.   4.]\n",
      " [-20.   5.   5.   5.   5.]\n",
      " [-24.   6.   6.   6.   6.]\n",
      " [-28.   7.   7.   7.   7.]\n",
      " [-32.   8.   8.   8.   8.]\n",
      " [-36.   9.   9.   9.   9.]\n",
      " [-40.  10.  10.  10.  10.]\n",
      " [-44.  11.  11.  11.  11.]]\n",
      "1 2\n",
      "score[ 2 ] 691.0 correct class score 670.0 margin 22.0\n",
      "dW: [[  0. -12.  12.   0.   0.]\n",
      " [ -4. -12.  14.   1.   1.]\n",
      " [ -8. -12.  16.   2.   2.]\n",
      " [-12. -12.  18.   3.   3.]\n",
      " [-16. -12.  20.   4.   4.]\n",
      " [-20. -12.  22.   5.   5.]\n",
      " [-24. -12.  24.   6.   6.]\n",
      " [-28. -12.  26.   7.   7.]\n",
      " [-32. -12.  28.   8.   8.]\n",
      " [-36. -12.  30.   9.   9.]\n",
      " [-40. -12.  32.  10.  10.]\n",
      " [-44. -12.  34.  11.  11.]]\n",
      "1 3\n",
      "score[ 3 ] 712.0 correct class score 670.0 margin 43.0\n",
      "dW: [[  0. -24.  12.  12.   0.]\n",
      " [ -4. -25.  14.  14.   1.]\n",
      " [ -8. -26.  16.  16.   2.]\n",
      " [-12. -27.  18.  18.   3.]\n",
      " [-16. -28.  20.  20.   4.]\n",
      " [-20. -29.  22.  22.   5.]\n",
      " [-24. -30.  24.  24.   6.]\n",
      " [-28. -31.  26.  26.   7.]\n",
      " [-32. -32.  28.  28.   8.]\n",
      " [-36. -33.  30.  30.   9.]\n",
      " [-40. -34.  32.  32.  10.]\n",
      " [-44. -35.  34.  34.  11.]]\n",
      "1 4\n",
      "score[ 4 ] 733.0 correct class score 670.0 margin 64.0\n",
      "dW: [[  0. -36.  12.  12.  12.]\n",
      " [ -4. -38.  14.  14.  14.]\n",
      " [ -8. -40.  16.  16.  16.]\n",
      " [-12. -42.  18.  18.  18.]\n",
      " [-16. -44.  20.  20.  20.]\n",
      " [-20. -46.  22.  22.  22.]\n",
      " [-24. -48.  24.  24.  24.]\n",
      " [-28. -50.  26.  26.  26.]\n",
      " [-32. -52.  28.  28.  28.]\n",
      " [-36. -54.  30.  30.  30.]\n",
      " [-40. -56.  32.  32.  32.]\n",
      " [-44. -58.  34.  34.  34.]]\n",
      "2 0\n",
      "score[ 0 ] 1045.0 correct class score 1115.8 margin -69.79999999999995\n",
      "dW: [[  0. -36.  12.  12.  12.]\n",
      " [ -4. -38.  14.  14.  14.]\n",
      " [ -8. -40.  16.  16.  16.]\n",
      " [-12. -42.  18.  18.  18.]\n",
      " [-16. -44.  20.  20.  20.]\n",
      " [-20. -46.  22.  22.  22.]\n",
      " [-24. -48.  24.  24.  24.]\n",
      " [-28. -50.  26.  26.  26.]\n",
      " [-32. -52.  28.  28.  28.]\n",
      " [-36. -54.  30.  30.  30.]\n",
      " [-40. -56.  32.  32.  32.]\n",
      " [-44. -58.  34.  34.  34.]]\n",
      "2 1\n",
      "score[ 1 ] 1080.4 correct class score 1115.8 margin -34.399999999999864\n",
      "dW: [[  0. -36.  12.  12.  12.]\n",
      " [ -4. -38.  14.  14.  14.]\n",
      " [ -8. -40.  16.  16.  16.]\n",
      " [-12. -42.  18.  18.  18.]\n",
      " [-16. -44.  20.  20.  20.]\n",
      " [-20. -46.  22.  22.  22.]\n",
      " [-24. -48.  24.  24.  24.]\n",
      " [-28. -50.  26.  26.  26.]\n",
      " [-32. -52.  28.  28.  28.]\n",
      " [-36. -54.  30.  30.  30.]\n",
      " [-40. -56.  32.  32.  32.]\n",
      " [-44. -58.  34.  34.  34.]]\n",
      "2 3\n",
      "score[ 3 ] 1151.2 correct class score 1115.8 margin 36.40000000000009\n",
      "dW: [[  0. -36. -12.  36.  12.]\n",
      " [ -4. -38. -11.  39.  14.]\n",
      " [ -8. -40. -10.  42.  16.]\n",
      " [-12. -42.  -9.  45.  18.]\n",
      " [-16. -44.  -8.  48.  20.]\n",
      " [-20. -46.  -7.  51.  22.]\n",
      " [-24. -48.  -6.  54.  24.]\n",
      " [-28. -50.  -5.  57.  26.]\n",
      " [-32. -52.  -4.  60.  28.]\n",
      " [-36. -54.  -3.  63.  30.]\n",
      " [-40. -56.  -2.  66.  32.]\n",
      " [-44. -58.  -1.  69.  34.]]\n",
      "2 4\n",
      "score[ 4 ] 1186.6 correct class score 1115.8 margin 71.79999999999995\n",
      "dW: [[  0. -36. -36.  36.  36.]\n",
      " [ -4. -38. -36.  39.  39.]\n",
      " [ -8. -40. -36.  42.  42.]\n",
      " [-12. -42. -36.  45.  45.]\n",
      " [-16. -44. -36.  48.  48.]\n",
      " [-20. -46. -36.  51.  51.]\n",
      " [-24. -48. -36.  54.  54.]\n",
      " [-28. -50. -36.  57.  57.]\n",
      " [-32. -52. -36.  60.  60.]\n",
      " [-36. -54. -36.  63.  63.]\n",
      " [-40. -56. -36.  66.  66.]\n",
      " [-44. -58. -36.  69.  69.]]\n",
      "3 0\n",
      "score[ 0 ] 1441.0 correct class score 1590.4 margin -148.4000000000001\n",
      "dW: [[  0. -36. -36.  36.  36.]\n",
      " [ -4. -38. -36.  39.  39.]\n",
      " [ -8. -40. -36.  42.  42.]\n",
      " [-12. -42. -36.  45.  45.]\n",
      " [-16. -44. -36.  48.  48.]\n",
      " [-20. -46. -36.  51.  51.]\n",
      " [-24. -48. -36.  54.  54.]\n",
      " [-28. -50. -36.  57.  57.]\n",
      " [-32. -52. -36.  60.  60.]\n",
      " [-36. -54. -36.  63.  63.]\n",
      " [-40. -56. -36.  66.  66.]\n",
      " [-44. -58. -36.  69.  69.]]\n",
      "3 1\n",
      "score[ 1 ] 1490.8000000000002 correct class score 1590.4 margin -98.59999999999991\n",
      "dW: [[  0. -36. -36.  36.  36.]\n",
      " [ -4. -38. -36.  39.  39.]\n",
      " [ -8. -40. -36.  42.  42.]\n",
      " [-12. -42. -36.  45.  45.]\n",
      " [-16. -44. -36.  48.  48.]\n",
      " [-20. -46. -36.  51.  51.]\n",
      " [-24. -48. -36.  54.  54.]\n",
      " [-28. -50. -36.  57.  57.]\n",
      " [-32. -52. -36.  60.  60.]\n",
      " [-36. -54. -36.  63.  63.]\n",
      " [-40. -56. -36.  66.  66.]\n",
      " [-44. -58. -36.  69.  69.]]\n",
      "3 2\n",
      "score[ 2 ] 1540.6000000000001 correct class score 1590.4 margin -48.799999999999955\n",
      "dW: [[  0. -36. -36.  36.  36.]\n",
      " [ -4. -38. -36.  39.  39.]\n",
      " [ -8. -40. -36.  42.  42.]\n",
      " [-12. -42. -36.  45.  45.]\n",
      " [-16. -44. -36.  48.  48.]\n",
      " [-20. -46. -36.  51.  51.]\n",
      " [-24. -48. -36.  54.  54.]\n",
      " [-28. -50. -36.  57.  57.]\n",
      " [-32. -52. -36.  60.  60.]\n",
      " [-36. -54. -36.  63.  63.]\n",
      " [-40. -56. -36.  66.  66.]\n",
      " [-44. -58. -36.  69.  69.]]\n",
      "3 4\n",
      "score[ 4 ] 1640.2000000000003 correct class score 1590.4 margin 50.80000000000018\n",
      "dW: [[  0. -36. -36.   0.  72.]\n",
      " [ -4. -38. -36.   2.  76.]\n",
      " [ -8. -40. -36.   4.  80.]\n",
      " [-12. -42. -36.   6.  84.]\n",
      " [-16. -44. -36.   8.  88.]\n",
      " [-20. -46. -36.  10.  92.]\n",
      " [-24. -48. -36.  12.  96.]\n",
      " [-28. -50. -36.  14. 100.]\n",
      " [-32. -52. -36.  16. 104.]\n",
      " [-36. -54. -36.  18. 108.]\n",
      " [-40. -56. -36.  20. 112.]\n",
      " [-44. -58. -36.  22. 116.]]\n",
      "4 0\n",
      "score[ 0 ] 1837.0 correct class score 2093.8 margin -255.80000000000018\n",
      "dW: [[  0. -36. -36.   0.  72.]\n",
      " [ -4. -38. -36.   2.  76.]\n",
      " [ -8. -40. -36.   4.  80.]\n",
      " [-12. -42. -36.   6.  84.]\n",
      " [-16. -44. -36.   8.  88.]\n",
      " [-20. -46. -36.  10.  92.]\n",
      " [-24. -48. -36.  12.  96.]\n",
      " [-28. -50. -36.  14. 100.]\n",
      " [-32. -52. -36.  16. 104.]\n",
      " [-36. -54. -36.  18. 108.]\n",
      " [-40. -56. -36.  20. 112.]\n",
      " [-44. -58. -36.  22. 116.]]\n",
      "4 1\n",
      "score[ 1 ] 1901.2 correct class score 2093.8 margin -191.60000000000014\n",
      "dW: [[  0. -36. -36.   0.  72.]\n",
      " [ -4. -38. -36.   2.  76.]\n",
      " [ -8. -40. -36.   4.  80.]\n",
      " [-12. -42. -36.   6.  84.]\n",
      " [-16. -44. -36.   8.  88.]\n",
      " [-20. -46. -36.  10.  92.]\n",
      " [-24. -48. -36.  12.  96.]\n",
      " [-28. -50. -36.  14. 100.]\n",
      " [-32. -52. -36.  16. 104.]\n",
      " [-36. -54. -36.  18. 108.]\n",
      " [-40. -56. -36.  20. 112.]\n",
      " [-44. -58. -36.  22. 116.]]\n",
      "4 2\n",
      "score[ 2 ] 1965.4 correct class score 2093.8 margin -127.40000000000009\n",
      "dW: [[  0. -36. -36.   0.  72.]\n",
      " [ -4. -38. -36.   2.  76.]\n",
      " [ -8. -40. -36.   4.  80.]\n",
      " [-12. -42. -36.   6.  84.]\n",
      " [-16. -44. -36.   8.  88.]\n",
      " [-20. -46. -36.  10.  92.]\n",
      " [-24. -48. -36.  12.  96.]\n",
      " [-28. -50. -36.  14. 100.]\n",
      " [-32. -52. -36.  16. 104.]\n",
      " [-36. -54. -36.  18. 108.]\n",
      " [-40. -56. -36.  20. 112.]\n",
      " [-44. -58. -36.  22. 116.]]\n",
      "4 3\n",
      "score[ 3 ] 2029.6 correct class score 2093.8 margin -63.20000000000027\n",
      "dW: [[  0. -36. -36.   0.  72.]\n",
      " [ -4. -38. -36.   2.  76.]\n",
      " [ -8. -40. -36.   4.  80.]\n",
      " [-12. -42. -36.   6.  84.]\n",
      " [-16. -44. -36.   8.  88.]\n",
      " [-20. -46. -36.  10.  92.]\n",
      " [-24. -48. -36.  12.  96.]\n",
      " [-28. -50. -36.  14. 100.]\n",
      " [-32. -52. -36.  16. 104.]\n",
      " [-36. -54. -36.  18. 108.]\n",
      " [-40. -56. -36.  20. 112.]\n",
      " [-44. -58. -36.  22. 116.]]\n"
     ]
    },
    {
     "ename": "IndexError",
     "evalue": "index 5 is out of bounds for axis 0 with size 5",
     "output_type": "error",
     "traceback": [
      "\u001b[0;31m---------------------------------------------------------------------------\u001b[0m",
      "\u001b[0;31mIndexError\u001b[0m                                Traceback (most recent call last)",
      "\u001b[0;32m<ipython-input-18-83b634fc46f5>\u001b[0m in \u001b[0;36m<module>\u001b[0;34m\u001b[0m\n\u001b[1;32m      4\u001b[0m     \u001b[0mscores\u001b[0m \u001b[0;34m=\u001b[0m \u001b[0mX\u001b[0m\u001b[0;34m[\u001b[0m\u001b[0mi\u001b[0m\u001b[0;34m]\u001b[0m\u001b[0;34m.\u001b[0m\u001b[0mdot\u001b[0m\u001b[0;34m(\u001b[0m\u001b[0mW\u001b[0m\u001b[0;34m)\u001b[0m\u001b[0;34m\u001b[0m\u001b[0;34m\u001b[0m\u001b[0m\n\u001b[1;32m      5\u001b[0m     \u001b[0;31m# print(i, scores)\u001b[0m\u001b[0;34m\u001b[0m\u001b[0;34m\u001b[0m\u001b[0;34m\u001b[0m\u001b[0m\n\u001b[0;32m----> 6\u001b[0;31m     \u001b[0mcorrect_class_score\u001b[0m \u001b[0;34m=\u001b[0m \u001b[0mscores\u001b[0m\u001b[0;34m[\u001b[0m\u001b[0my\u001b[0m\u001b[0;34m[\u001b[0m\u001b[0mi\u001b[0m\u001b[0;34m]\u001b[0m\u001b[0;34m]\u001b[0m  \u001b[0;31m# y[i] is the correct class (index)\u001b[0m\u001b[0;34m\u001b[0m\u001b[0;34m\u001b[0m\u001b[0m\n\u001b[0m\u001b[1;32m      7\u001b[0m     \u001b[0;31m# print(correct_class_score)\u001b[0m\u001b[0;34m\u001b[0m\u001b[0;34m\u001b[0m\u001b[0;34m\u001b[0m\u001b[0m\n\u001b[1;32m      8\u001b[0m     \u001b[0;31m# margin_loss_count = 0\u001b[0m\u001b[0;34m\u001b[0m\u001b[0;34m\u001b[0m\u001b[0;34m\u001b[0m\u001b[0m\n",
      "\u001b[0;31mIndexError\u001b[0m: index 5 is out of bounds for axis 0 with size 5"
     ]
    }
   ],
   "source": [
    "dW = np.zeros(W.shape) # initialize the gradient as zero\n",
    "loss = 0.0\n",
    "for i in range(num_train):\n",
    "    scores = X[i].dot(W)\n",
    "    # print(i, scores)\n",
    "    correct_class_score = scores[y[i]]  # y[i] is the correct class (index)\n",
    "    # print(correct_class_score)\n",
    "    # margin_loss_count = 0\n",
    "    for j in range(num_classes):\n",
    "      if j == y[i]:\n",
    "        continue\n",
    "      print(i, j)\n",
    "      margin = scores[j] - correct_class_score + 1 # note delta = 1\n",
    "      print('score[',j,']', scores[j],'correct class score', correct_class_score, 'margin', margin)\n",
    "      if margin > 0:\n",
    "        loss += margin\n",
    "        # margin_loss_count += 1\n",
    "        # Computing the gradient analytically with Calculus\n",
    "        # For incorrect classes\n",
    "        dW[:, j] += X[i] # add X value to classes that are incorrect\n",
    "        dW[:, y[i]] -= X[i] # subtract X value from the correct class\n",
    "      print(\"dW:\", dW)\n",
    "    # For correct classes\n",
    "    # dW[:, y[i]] += -1 * margin_loss_count * X[i]\n",
    "\n",
    "    \n",
    "# Right now the loss is a sum over all training examples, but we want it\n",
    "# to be an average instead so we divide by num_train.\n",
    "loss /= num_train\n",
    "dW /= num_train\n",
    "\n",
    "print('loss', loss)\n",
    "print('dW', dW)\n",
    "\n",
    "# Add regularization to the loss.\n",
    "# loss += reg * np.sum(W * W)\n",
    "# that contribues to the gradient as well\n",
    "\n",
    "reg = 1\n",
    "\n",
    "# dW += 2 * reg * W\n",
    "dW += reg * W  # regularize the weights\n",
    "# Add regularization to the loss.\n",
    "loss += 0.5 * reg * np.sum(W * W)\n",
    "\n",
    "print('loss', loss)\n",
    "print('dW', dW)\n"
   ]
  },
  {
   "cell_type": "code",
   "execution_count": null,
   "metadata": {},
   "outputs": [],
   "source": []
  },
  {
   "cell_type": "code",
   "execution_count": 19,
   "metadata": {},
   "outputs": [
    {
     "ename": "IndexError",
     "evalue": "shape mismatch: indexing arrays could not be broadcast together with shapes (10,) (5,) ",
     "output_type": "error",
     "traceback": [
      "\u001b[0;31m---------------------------------------------------------------------------\u001b[0m",
      "\u001b[0;31mIndexError\u001b[0m                                Traceback (most recent call last)",
      "\u001b[0;32m<ipython-input-19-000a37789995>\u001b[0m in \u001b[0;36m<module>\u001b[0;34m\u001b[0m\n\u001b[1;32m      3\u001b[0m \u001b[0mnum_train\u001b[0m \u001b[0;34m=\u001b[0m \u001b[0mX\u001b[0m\u001b[0;34m.\u001b[0m\u001b[0mshape\u001b[0m\u001b[0;34m[\u001b[0m\u001b[0;36m0\u001b[0m\u001b[0;34m]\u001b[0m\u001b[0;34m\u001b[0m\u001b[0;34m\u001b[0m\u001b[0m\n\u001b[1;32m      4\u001b[0m \u001b[0mscores\u001b[0m \u001b[0;34m=\u001b[0m \u001b[0mX\u001b[0m\u001b[0;34m.\u001b[0m\u001b[0mdot\u001b[0m\u001b[0;34m(\u001b[0m\u001b[0mW\u001b[0m\u001b[0;34m)\u001b[0m\u001b[0;34m\u001b[0m\u001b[0;34m\u001b[0m\u001b[0m\n\u001b[0;32m----> 5\u001b[0;31m \u001b[0myi_scores\u001b[0m \u001b[0;34m=\u001b[0m \u001b[0mscores\u001b[0m\u001b[0;34m[\u001b[0m\u001b[0mnp\u001b[0m\u001b[0;34m.\u001b[0m\u001b[0marange\u001b[0m\u001b[0;34m(\u001b[0m\u001b[0mscores\u001b[0m\u001b[0;34m.\u001b[0m\u001b[0mshape\u001b[0m\u001b[0;34m[\u001b[0m\u001b[0;36m0\u001b[0m\u001b[0;34m]\u001b[0m\u001b[0;34m)\u001b[0m\u001b[0;34m,\u001b[0m \u001b[0my\u001b[0m\u001b[0;34m]\u001b[0m\u001b[0;34m\u001b[0m\u001b[0;34m\u001b[0m\u001b[0m\n\u001b[0m\u001b[1;32m      6\u001b[0m \u001b[0mmargins\u001b[0m \u001b[0;34m=\u001b[0m \u001b[0mnp\u001b[0m\u001b[0;34m.\u001b[0m\u001b[0mmaximum\u001b[0m\u001b[0;34m(\u001b[0m\u001b[0;36m0\u001b[0m\u001b[0;34m,\u001b[0m \u001b[0mscores\u001b[0m \u001b[0;34m-\u001b[0m \u001b[0mnp\u001b[0m\u001b[0;34m.\u001b[0m\u001b[0mmatrix\u001b[0m\u001b[0;34m(\u001b[0m\u001b[0myi_scores\u001b[0m\u001b[0;34m)\u001b[0m\u001b[0;34m.\u001b[0m\u001b[0mT\u001b[0m \u001b[0;34m+\u001b[0m \u001b[0;36m1\u001b[0m\u001b[0;34m)\u001b[0m\u001b[0;34m\u001b[0m\u001b[0;34m\u001b[0m\u001b[0m\n\u001b[1;32m      7\u001b[0m \u001b[0mmargins\u001b[0m\u001b[0;34m[\u001b[0m\u001b[0mnp\u001b[0m\u001b[0;34m.\u001b[0m\u001b[0marange\u001b[0m\u001b[0;34m(\u001b[0m\u001b[0mnum_train\u001b[0m\u001b[0;34m)\u001b[0m\u001b[0;34m,\u001b[0m \u001b[0my\u001b[0m\u001b[0;34m]\u001b[0m \u001b[0;34m=\u001b[0m \u001b[0;36m0\u001b[0m\u001b[0;34m\u001b[0m\u001b[0;34m\u001b[0m\u001b[0m\n",
      "\u001b[0;31mIndexError\u001b[0m: shape mismatch: indexing arrays could not be broadcast together with shapes (10,) (5,) "
     ]
    }
   ],
   "source": [
    "loss = 0.0\n",
    "dW = np.zeros(W.shape) # initialize the gradient as zero\n",
    "num_train = X.shape[0]\n",
    "scores = X.dot(W)\n",
    "yi_scores = scores[np.arange(scores.shape[0]), y]\n",
    "margins = np.maximum(0, scores - np.matrix(yi_scores).T + 1)\n",
    "margins[np.arange(num_train), y] = 0\n",
    "loss = np.mean(np.sum(margins, axis=1))\n",
    "loss += reg * np.sum(W * W)\n",
    "\n",
    "\n",
    "binary = margins\n",
    "binary[margins > 0] = 1\n",
    "row_sum = np.sum(binary, axis=1)\n",
    "binary[np.arange(num_train), y] = -row_sum.T\n",
    "dW = np.dot(X.T, binary)\n",
    "\n",
    "dW /= num_train\n",
    "\n",
    "dW += reg * W\n"
   ]
  },
  {
   "cell_type": "code",
   "execution_count": 20,
   "metadata": {},
   "outputs": [
    {
     "data": {
      "text/plain": [
       "array([[ 253. ,  259.6,  266.2,  272.8,  279.4],\n",
       "       [ 649. ,  670. ,  691. ,  712. ,  733. ],\n",
       "       [1045. , 1080.4, 1115.8, 1151.2, 1186.6],\n",
       "       [1441. , 1490.8, 1540.6, 1590.4, 1640.2],\n",
       "       [1837. , 1901.2, 1965.4, 2029.6, 2093.8],\n",
       "       [2233. , 2311.6, 2390.2, 2468.8, 2547.4],\n",
       "       [2629. , 2722. , 2815. , 2908. , 3001. ],\n",
       "       [3025. , 3132.4, 3239.8, 3347.2, 3454.6],\n",
       "       [3421. , 3542.8, 3664.6, 3786.4, 3908.2],\n",
       "       [3817. , 3953.2, 4089.4, 4225.6, 4361.8]])"
      ]
     },
     "execution_count": 20,
     "metadata": {},
     "output_type": "execute_result"
    }
   ],
   "source": [
    "loss = 0.0\n",
    "dW = np.zeros(W.shape) # initialize the gradient as zero\n",
    "num_train = X.shape[0]\n",
    "scores = X.dot(W)\n",
    "scores"
   ]
  },
  {
   "cell_type": "code",
   "execution_count": 21,
   "metadata": {},
   "outputs": [
    {
     "data": {
      "text/plain": [
       "array([0, 1, 2, 3, 4, 5, 6, 7, 8, 9])"
      ]
     },
     "execution_count": 21,
     "metadata": {},
     "output_type": "execute_result"
    }
   ],
   "source": [
    "np.arange(scores.shape[0])"
   ]
  },
  {
   "cell_type": "code",
   "execution_count": 22,
   "metadata": {},
   "outputs": [
    {
     "data": {
      "text/plain": [
       "array([0, 1, 2, 3, 4])"
      ]
     },
     "execution_count": 22,
     "metadata": {},
     "output_type": "execute_result"
    }
   ],
   "source": [
    "y"
   ]
  },
  {
   "cell_type": "code",
   "execution_count": 24,
   "metadata": {},
   "outputs": [
    {
     "ename": "IndexError",
     "evalue": "shape mismatch: indexing arrays could not be broadcast together with shapes (10,) (5,) ",
     "output_type": "error",
     "traceback": [
      "\u001b[0;31m---------------------------------------------------------------------------\u001b[0m",
      "\u001b[0;31mIndexError\u001b[0m                                Traceback (most recent call last)",
      "\u001b[0;32m<ipython-input-24-83a58468d97b>\u001b[0m in \u001b[0;36m<module>\u001b[0;34m\u001b[0m\n\u001b[1;32m      1\u001b[0m \u001b[0mrow_mask\u001b[0m \u001b[0;34m=\u001b[0m \u001b[0mnp\u001b[0m\u001b[0;34m.\u001b[0m\u001b[0marange\u001b[0m\u001b[0;34m(\u001b[0m\u001b[0mscores\u001b[0m\u001b[0;34m.\u001b[0m\u001b[0mshape\u001b[0m\u001b[0;34m[\u001b[0m\u001b[0;36m0\u001b[0m\u001b[0;34m]\u001b[0m\u001b[0;34m)\u001b[0m\u001b[0;34m\u001b[0m\u001b[0;34m\u001b[0m\u001b[0m\n\u001b[0;32m----> 2\u001b[0;31m \u001b[0myi_scores\u001b[0m \u001b[0;34m=\u001b[0m \u001b[0mscores\u001b[0m\u001b[0;34m[\u001b[0m\u001b[0mlist\u001b[0m\u001b[0;34m(\u001b[0m\u001b[0mrange\u001b[0m\u001b[0;34m(\u001b[0m\u001b[0mnum_train\u001b[0m\u001b[0;34m)\u001b[0m\u001b[0;34m)\u001b[0m\u001b[0;34m,\u001b[0m \u001b[0my\u001b[0m\u001b[0;34m]\u001b[0m\u001b[0;34m\u001b[0m\u001b[0;34m\u001b[0m\u001b[0m\n\u001b[0m\u001b[1;32m      3\u001b[0m \u001b[0;31m# yi_scores = scores[ np.broadcast(np.arange(num_train)), np.broadcast(y) ] #\u001b[0m\u001b[0;34m\u001b[0m\u001b[0;34m\u001b[0m\u001b[0;34m\u001b[0m\u001b[0m\n\u001b[1;32m      4\u001b[0m     \u001b[0;31m# scores[(0,1,2,3,4,5,6,7,8,9), (0,1,2,3,4)]\u001b[0m\u001b[0;34m\u001b[0m\u001b[0;34m\u001b[0m\u001b[0;34m\u001b[0m\u001b[0m\n\u001b[1;32m      5\u001b[0m \u001b[0myi_scores\u001b[0m\u001b[0;34m\u001b[0m\u001b[0;34m\u001b[0m\u001b[0m\n",
      "\u001b[0;31mIndexError\u001b[0m: shape mismatch: indexing arrays could not be broadcast together with shapes (10,) (5,) "
     ]
    }
   ],
   "source": [
    "row_mask = np.arange(scores.shape[0])\n",
    "yi_scores = scores[list(range(num_train)), y]\n",
    "# yi_scores = scores[ np.broadcast(np.arange(num_train)), np.broadcast(y) ] # \n",
    "    # scores[(0,1,2,3,4,5,6,7,8,9), (0,1,2,3,4)]\n",
    "yi_scores"
   ]
  },
  {
   "cell_type": "code",
   "execution_count": 34,
   "metadata": {},
   "outputs": [
    {
     "data": {
      "text/plain": [
       "array([[ 0,  1,  2],\n",
       "       [ 3,  4,  5],\n",
       "       [ 6,  7,  8],\n",
       "       [ 9, 10, 11],\n",
       "       [12, 13, 14],\n",
       "       [15, 16, 17],\n",
       "       [18, 19, 20],\n",
       "       [21, 22, 23],\n",
       "       [24, 25, 26],\n",
       "       [27, 28, 29]])"
      ]
     },
     "execution_count": 34,
     "metadata": {},
     "output_type": "execute_result"
    }
   ],
   "source": [
    "# X_train = np.arange(30).reshape((10, 3))\n",
    "# X_train"
   ]
  },
  {
   "cell_type": "code",
   "execution_count": 35,
   "metadata": {},
   "outputs": [
    {
     "data": {
      "text/plain": [
       "array([[15, 13, 17],\n",
       "       [16, 22, 29],\n",
       "       [ 2, 25,  5]])"
      ]
     },
     "execution_count": 35,
     "metadata": {},
     "output_type": "execute_result"
    }
   ],
   "source": [
    "# X = np.random.randint(0, 30, (3, 3))\n",
    "# X"
   ]
  },
  {
   "cell_type": "code",
   "execution_count": 36,
   "metadata": {},
   "outputs": [
    {
     "data": {
      "text/plain": [
       "array([[0., 0., 0., 0., 0., 0., 0., 0., 0., 0.],\n",
       "       [0., 0., 0., 0., 0., 0., 0., 0., 0., 0.],\n",
       "       [0., 0., 0., 0., 0., 0., 0., 0., 0., 0.]])"
      ]
     },
     "execution_count": 36,
     "metadata": {},
     "output_type": "execute_result"
    }
   ],
   "source": [
    "# dists = np.zeros((X.shape[0], X_train.shape[0]))\n",
    "# dists"
   ]
  },
  {
   "cell_type": "code",
   "execution_count": 25,
   "metadata": {},
   "outputs": [
    {
     "data": {
      "text/plain": [
       "array([[ 0,  1,  2,  3],\n",
       "       [ 4,  5,  6,  7],\n",
       "       [ 8,  9, 10, 11]])"
      ]
     },
     "execution_count": 25,
     "metadata": {},
     "output_type": "execute_result"
    }
   ],
   "source": [
    "A = np.arange(12).reshape((3,4))\n",
    "A"
   ]
  },
  {
   "cell_type": "code",
   "execution_count": 26,
   "metadata": {},
   "outputs": [
    {
     "data": {
      "text/plain": [
       "array([[  0,   1,   4,   9],\n",
       "       [ 16,  25,  36,  49],\n",
       "       [ 64,  81, 100, 121]])"
      ]
     },
     "execution_count": 26,
     "metadata": {},
     "output_type": "execute_result"
    }
   ],
   "source": [
    "SQ = A * A\n",
    "SQ"
   ]
  },
  {
   "cell_type": "code",
   "execution_count": 27,
   "metadata": {},
   "outputs": [
    {
     "data": {
      "text/plain": [
       "array([[  0,   1,   4,   9],\n",
       "       [ 16,  25,  36,  49],\n",
       "       [ 64,  81, 100, 121]])"
      ]
     },
     "execution_count": 27,
     "metadata": {},
     "output_type": "execute_result"
    }
   ],
   "source": [
    "SQ2 = A ** 2\n",
    "SQ2"
   ]
  },
  {
   "cell_type": "code",
   "execution_count": 28,
   "metadata": {},
   "outputs": [
    {
     "data": {
      "text/plain": [
       "506"
      ]
     },
     "execution_count": 28,
     "metadata": {},
     "output_type": "execute_result"
    }
   ],
   "source": [
    "SQ_SUM = np.sum(A * A)\n",
    "SQ_SUM"
   ]
  },
  {
   "cell_type": "code",
   "execution_count": 11,
   "metadata": {},
   "outputs": [
    {
     "data": {
      "text/plain": [
       "array([[31.591138  , 26.92582404, 22.49444376, 18.46618531, 15.16575089,\n",
       "        13.15294644, 13.03840481, 14.86606875, 18.05547009, 22.02271555],\n",
       "       [24.71841419, 20.09975124, 15.84297952, 12.32882801, 10.34408043,\n",
       "        10.77032961, 13.37908816, 17.20465053, 21.61018278, 26.30589288],\n",
       "       [31.06444913, 27.09243437, 23.60084744, 20.83266666, 19.10497317,\n",
       "        18.70828693, 19.72308292, 21.9544984 , 25.07987241, 28.80972058]])"
      ]
     },
     "execution_count": 11,
     "metadata": {},
     "output_type": "execute_result"
    }
   ],
   "source": [
    "num_test = X.shape[0]\n",
    "num_train = X_train.shape[0]\n",
    "dists = np.zeros((num_test, num_train))\n",
    "for i in range(num_test):\n",
    "    for j in range(num_train):\n",
    "        dists[i][j] = np.sqrt(np.sum((X[i] - X_train[j])**2))\n",
    "        \n",
    "dists"
   ]
  },
  {
   "cell_type": "code",
   "execution_count": 12,
   "metadata": {},
   "outputs": [
    {
     "data": {
      "text/plain": [
       "array([[31.591138  , 26.92582404, 22.49444376, 18.46618531, 15.16575089,\n",
       "        13.15294644, 13.03840481, 14.86606875, 18.05547009, 22.02271555],\n",
       "       [24.71841419, 20.09975124, 15.84297952, 12.32882801, 10.34408043,\n",
       "        10.77032961, 13.37908816, 17.20465053, 21.61018278, 26.30589288],\n",
       "       [31.06444913, 27.09243437, 23.60084744, 20.83266666, 19.10497317,\n",
       "        18.70828693, 19.72308292, 21.9544984 , 25.07987241, 28.80972058]])"
      ]
     },
     "execution_count": 12,
     "metadata": {},
     "output_type": "execute_result"
    }
   ],
   "source": [
    "num_test = X.shape[0]\n",
    "num_train = X_train.shape[0]\n",
    "dists = np.zeros((num_test, num_train))\n",
    "for i in range(num_test):\n",
    "    dists[i] = np.sqrt(np.sum((X[i] - X_train)**2, axis=1))\n",
    "    \n",
    "dists"
   ]
  },
  {
   "cell_type": "code",
   "execution_count": 13,
   "metadata": {},
   "outputs": [
    {
     "data": {
      "text/plain": [
       "array([1075,  666, 1074])"
      ]
     },
     "execution_count": 13,
     "metadata": {},
     "output_type": "execute_result"
    }
   ],
   "source": [
    "# (a - b)**2 = a**2 + b**2 - 2*a*b\n",
    "X_squared_sum = np.sum(X**2, axis=1)\n",
    "X_squared_sum"
   ]
  },
  {
   "cell_type": "code",
   "execution_count": 14,
   "metadata": {},
   "outputs": [
    {
     "data": {
      "text/plain": [
       "array([   5,   50,  149,  302,  509,  770, 1085, 1454, 1877, 2354])"
      ]
     },
     "execution_count": 14,
     "metadata": {},
     "output_type": "execute_result"
    }
   ],
   "source": [
    "X_train_squared_sum = np.sum(X_train**2, axis=1)\n",
    "X_train_squared_sum"
   ]
  },
  {
   "cell_type": "code",
   "execution_count": 15,
   "metadata": {},
   "outputs": [
    {
     "data": {
      "text/plain": [
       "array([[  82,  400,  718, 1036, 1354, 1672, 1990, 2308, 2626, 2944],\n",
       "       [  60,  312,  564,  816, 1068, 1320, 1572, 1824, 2076, 2328],\n",
       "       [ 114,  390,  666,  942, 1218, 1494, 1770, 2046, 2322, 2598]])"
      ]
     },
     "execution_count": 15,
     "metadata": {},
     "output_type": "execute_result"
    }
   ],
   "source": [
    "# 2 * X * X_train\n",
    "two_x_x_tr = 2 * X.dot(X_train.T)\n",
    "two_x_x_tr"
   ]
  },
  {
   "cell_type": "code",
   "execution_count": 16,
   "metadata": {},
   "outputs": [
    {
     "data": {
      "text/plain": [
       "(3,)"
      ]
     },
     "execution_count": 16,
     "metadata": {},
     "output_type": "execute_result"
    }
   ],
   "source": [
    "X_squared_sum.shape"
   ]
  },
  {
   "cell_type": "code",
   "execution_count": 17,
   "metadata": {},
   "outputs": [
    {
     "data": {
      "text/plain": [
       "(10,)"
      ]
     },
     "execution_count": 17,
     "metadata": {},
     "output_type": "execute_result"
    }
   ],
   "source": [
    "X_train_squared_sum.shape"
   ]
  },
  {
   "cell_type": "code",
   "execution_count": 18,
   "metadata": {},
   "outputs": [
    {
     "data": {
      "text/plain": [
       "array([   5,   50,  149,  302,  509,  770, 1085, 1454, 1877, 2354])"
      ]
     },
     "execution_count": 18,
     "metadata": {},
     "output_type": "execute_result"
    }
   ],
   "source": [
    "X_train_squared_sum"
   ]
  },
  {
   "cell_type": "code",
   "execution_count": 19,
   "metadata": {},
   "outputs": [
    {
     "data": {
      "text/plain": [
       "array([[1080, 1125, 1224, 1377, 1584, 1845, 2160, 2529, 2952, 3429],\n",
       "       [ 671,  716,  815,  968, 1175, 1436, 1751, 2120, 2543, 3020],\n",
       "       [1079, 1124, 1223, 1376, 1583, 1844, 2159, 2528, 2951, 3428]])"
      ]
     },
     "execution_count": 19,
     "metadata": {},
     "output_type": "execute_result"
    }
   ],
   "source": [
    "X_sq_X_tr_sq = X_squared_sum[:, np.newaxis] + X_train_squared_sum\n",
    "X_sq_X_tr_sq"
   ]
  },
  {
   "cell_type": "code",
   "execution_count": 20,
   "metadata": {},
   "outputs": [
    {
     "data": {
      "text/plain": [
       "array([[998, 725, 506, 341, 230, 173, 170, 221, 326, 485],\n",
       "       [611, 404, 251, 152, 107, 116, 179, 296, 467, 692],\n",
       "       [965, 734, 557, 434, 365, 350, 389, 482, 629, 830]])"
      ]
     },
     "execution_count": 20,
     "metadata": {},
     "output_type": "execute_result"
    }
   ],
   "source": [
    "X_X_tr_sq = X_sq_X_tr_sq - two_x_x_tr\n",
    "X_X_tr_sq"
   ]
  },
  {
   "cell_type": "code",
   "execution_count": 21,
   "metadata": {},
   "outputs": [
    {
     "data": {
      "text/plain": [
       "array([[31.591138  , 26.92582404, 22.49444376, 18.46618531, 15.16575089,\n",
       "        13.15294644, 13.03840481, 14.86606875, 18.05547009, 22.02271555],\n",
       "       [24.71841419, 20.09975124, 15.84297952, 12.32882801, 10.34408043,\n",
       "        10.77032961, 13.37908816, 17.20465053, 21.61018278, 26.30589288],\n",
       "       [31.06444913, 27.09243437, 23.60084744, 20.83266666, 19.10497317,\n",
       "        18.70828693, 19.72308292, 21.9544984 , 25.07987241, 28.80972058]])"
      ]
     },
     "execution_count": 21,
     "metadata": {},
     "output_type": "execute_result"
    }
   ],
   "source": [
    "dists = np.sqrt(X_X_tr_sq)\n",
    "dists"
   ]
  },
  {
   "cell_type": "code",
   "execution_count": 24,
   "metadata": {},
   "outputs": [
    {
     "data": {
      "text/plain": [
       "array([[0., 0., 0., 0., 0.],\n",
       "       [0., 0., 0., 0., 0.],\n",
       "       [0., 0., 0., 0., 0.],\n",
       "       [0., 0., 0., 0., 0.],\n",
       "       [0., 0., 0., 0., 0.],\n",
       "       [0., 0., 0., 0., 0.],\n",
       "       [0., 0., 0., 0., 0.],\n",
       "       [0., 0., 0., 0., 0.],\n",
       "       [0., 0., 0., 0., 0.],\n",
       "       [0., 0., 0., 0., 0.],\n",
       "       [0., 0., 0., 0., 0.],\n",
       "       [0., 0., 0., 0., 0.]])"
      ]
     },
     "execution_count": 24,
     "metadata": {},
     "output_type": "execute_result"
    }
   ],
   "source": [
    "\"\"\"\n",
    "Structured SVM loss function, naive implementation (with loops).\n",
    "\n",
    "Inputs have dimension D, there are C classes, and we operate on minibatches\n",
    "of N examples.\n",
    "\n",
    "Inputs:\n",
    "- W: A numpy array of shape (D, C) containing weights.\n",
    "- X: A numpy array of shape (N, D) containing a minibatch of data.\n",
    "- y: A numpy array of shape (N,) containing training labels; y[i] = c means\n",
    "  that X[i] has label c, where 0 <= c < C.\n",
    "- reg: (float) regularization strength\n",
    "\n",
    "Returns a tuple of:\n",
    "- loss as single float\n",
    "- gradient with respect to weights W; an array of same shape as W\n",
    "\"\"\"\n",
    "dW = np.zeros(W.shape) # initialize the gradient as zero\n",
    "dW"
   ]
  },
  {
   "cell_type": "code",
   "execution_count": 25,
   "metadata": {},
   "outputs": [],
   "source": [
    "# compute the loss and the gradient\n",
    "num_classes = W.shape[1]\n",
    "num_train = X.shape[0]\n",
    "loss = 0.0"
   ]
  },
  {
   "cell_type": "code",
   "execution_count": 26,
   "metadata": {},
   "outputs": [
    {
     "ename": "ValueError",
     "evalue": "shapes (3,) and (12,5) not aligned: 3 (dim 0) != 12 (dim 0)",
     "output_type": "error",
     "traceback": [
      "\u001b[0;31m---------------------------------------------------------------------------\u001b[0m",
      "\u001b[0;31mValueError\u001b[0m                                Traceback (most recent call last)",
      "\u001b[0;32m<ipython-input-26-fabb5dac953c>\u001b[0m in \u001b[0;36m<module>\u001b[0;34m\u001b[0m\n\u001b[0;32m----> 1\u001b[0;31m \u001b[0mscores\u001b[0m \u001b[0;34m=\u001b[0m \u001b[0mX\u001b[0m\u001b[0;34m[\u001b[0m\u001b[0;36m0\u001b[0m\u001b[0;34m]\u001b[0m\u001b[0;34m.\u001b[0m\u001b[0mdot\u001b[0m\u001b[0;34m(\u001b[0m\u001b[0mW\u001b[0m\u001b[0;34m)\u001b[0m\u001b[0;34m\u001b[0m\u001b[0;34m\u001b[0m\u001b[0m\n\u001b[0m\u001b[1;32m      2\u001b[0m \u001b[0mscores\u001b[0m\u001b[0;34m\u001b[0m\u001b[0;34m\u001b[0m\u001b[0m\n",
      "\u001b[0;31mValueError\u001b[0m: shapes (3,) and (12,5) not aligned: 3 (dim 0) != 12 (dim 0)"
     ]
    }
   ],
   "source": [
    "scores = X[0].dot(W)\n",
    "scores"
   ]
  },
  {
   "cell_type": "code",
   "execution_count": 22,
   "metadata": {},
   "outputs": [
    {
     "ename": "ValueError",
     "evalue": "operands could not be broadcast together with shapes (4,) (6,) ",
     "output_type": "error",
     "traceback": [
      "\u001b[0;31m---------------------------------------------------------------------------\u001b[0m",
      "\u001b[0;31mValueError\u001b[0m                                Traceback (most recent call last)",
      "\u001b[0;32m<ipython-input-22-3e423c3923c9>\u001b[0m in \u001b[0;36m<module>\u001b[0;34m\u001b[0m\n\u001b[1;32m      1\u001b[0m \u001b[0ma\u001b[0m \u001b[0;34m=\u001b[0m \u001b[0mnp\u001b[0m\u001b[0;34m.\u001b[0m\u001b[0marray\u001b[0m\u001b[0;34m(\u001b[0m\u001b[0;34m[\u001b[0m\u001b[0;36m1\u001b[0m\u001b[0;34m,\u001b[0m \u001b[0;36m2\u001b[0m\u001b[0;34m,\u001b[0m \u001b[0;36m3\u001b[0m\u001b[0;34m,\u001b[0m \u001b[0;36m4\u001b[0m\u001b[0;34m]\u001b[0m\u001b[0;34m)\u001b[0m\u001b[0;34m\u001b[0m\u001b[0;34m\u001b[0m\u001b[0m\n\u001b[1;32m      2\u001b[0m \u001b[0mb\u001b[0m \u001b[0;34m=\u001b[0m \u001b[0mnp\u001b[0m\u001b[0;34m.\u001b[0m\u001b[0marray\u001b[0m\u001b[0;34m(\u001b[0m\u001b[0;34m[\u001b[0m\u001b[0;36m5\u001b[0m\u001b[0;34m,\u001b[0m \u001b[0;36m6\u001b[0m\u001b[0;34m,\u001b[0m \u001b[0;36m7\u001b[0m\u001b[0;34m,\u001b[0m \u001b[0;36m8\u001b[0m\u001b[0;34m,\u001b[0m \u001b[0;36m9\u001b[0m\u001b[0;34m,\u001b[0m \u001b[0;36m10\u001b[0m\u001b[0;34m]\u001b[0m\u001b[0;34m)\u001b[0m\u001b[0;34m\u001b[0m\u001b[0;34m\u001b[0m\u001b[0m\n\u001b[0;32m----> 3\u001b[0;31m \u001b[0ma\u001b[0m \u001b[0;34m+\u001b[0m \u001b[0mb\u001b[0m\u001b[0;34m\u001b[0m\u001b[0;34m\u001b[0m\u001b[0m\n\u001b[0m",
      "\u001b[0;31mValueError\u001b[0m: operands could not be broadcast together with shapes (4,) (6,) "
     ]
    }
   ],
   "source": [
    "\n",
    "for i in range(num_train):\n",
    "    scores = X[i].dot(W)\n",
    "    correct_class_score = scores[y[i]]\n",
    "    for j in range(num_classes):\n",
    "        if j == y[i]:\n",
    "            continue\n",
    "        # Li\n",
    "        margin = scores[j] - correct_class_score + 1 # note delta = 1\n",
    "        if margin > 0:\n",
    "            loss += margin\n",
    "            dW[:, y[i]] -= X[i, :]\n",
    "            dW[:, j] += X[i, :]\n",
    "\n",
    "# Right now the loss is a sum over all training examples, but we want it\n",
    "# to be an average instead so we divide by num_train.\n",
    "loss /= num_train\n",
    "dW /= num_train\n",
    "\n",
    "# Add regularization to the loss.\n",
    "loss += reg * np.sum(W * W)\n",
    "dW += reg * W\n"
   ]
  },
  {
   "cell_type": "code",
   "execution_count": 23,
   "metadata": {},
   "outputs": [
    {
     "ename": "ValueError",
     "evalue": "operands could not be broadcast together with shapes (2,) (4,) ",
     "output_type": "error",
     "traceback": [
      "\u001b[0;31m---------------------------------------------------------------------------\u001b[0m",
      "\u001b[0;31mValueError\u001b[0m                                Traceback (most recent call last)",
      "\u001b[0;32m<ipython-input-23-f079fad26c9f>\u001b[0m in \u001b[0;36m<module>\u001b[0;34m\u001b[0m\n\u001b[0;32m----> 1\u001b[0;31m \u001b[0mnp\u001b[0m\u001b[0;34m.\u001b[0m\u001b[0mconcatenate\u001b[0m\u001b[0;34m(\u001b[0m\u001b[0;34m(\u001b[0m\u001b[0ma\u001b[0m\u001b[0;34m[\u001b[0m\u001b[0;34m:\u001b[0m\u001b[0;36m2\u001b[0m\u001b[0;34m]\u001b[0m \u001b[0;34m+\u001b[0m \u001b[0mb\u001b[0m\u001b[0;34m[\u001b[0m\u001b[0;36m2\u001b[0m\u001b[0;34m:\u001b[0m\u001b[0;34m]\u001b[0m\u001b[0;34m)\u001b[0m\u001b[0;34m)\u001b[0m\u001b[0;34m\u001b[0m\u001b[0;34m\u001b[0m\u001b[0m\n\u001b[0m",
      "\u001b[0;31mValueError\u001b[0m: operands could not be broadcast together with shapes (2,) (4,) "
     ]
    }
   ],
   "source": [
    "np.concatenate((a[:2] + b[2:]))"
   ]
  },
  {
   "cell_type": "code",
   "execution_count": null,
   "metadata": {},
   "outputs": [],
   "source": []
  }
 ],
 "metadata": {
  "kernelspec": {
   "display_name": "Python 3",
   "language": "python",
   "name": "python3"
  },
  "language_info": {
   "codemirror_mode": {
    "name": "ipython",
    "version": 3
   },
   "file_extension": ".py",
   "mimetype": "text/x-python",
   "name": "python",
   "nbconvert_exporter": "python",
   "pygments_lexer": "ipython3",
   "version": "3.7.6"
  }
 },
 "nbformat": 4,
 "nbformat_minor": 2
}
